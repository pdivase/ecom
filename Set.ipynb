{
  "nbformat": 4,
  "nbformat_minor": 0,
  "metadata": {
    "colab": {
      "provenance": [],
      "authorship_tag": "ABX9TyPaf75+bmF3HHnDvRj0wYU1",
      "include_colab_link": true
    },
    "kernelspec": {
      "name": "python3",
      "display_name": "Python 3"
    },
    "language_info": {
      "name": "python"
    }
  },
  "cells": [
    {
      "cell_type": "markdown",
      "metadata": {
        "id": "view-in-github",
        "colab_type": "text"
      },
      "source": [
        "<a href=\"https://colab.research.google.com/github/pdivase/ecom/blob/main/Set.ipynb\" target=\"_parent\"><img src=\"https://colab.research.google.com/assets/colab-badge.svg\" alt=\"Open In Colab\"/></a>"
      ]
    },
    {
      "cell_type": "code",
      "execution_count": null,
      "metadata": {
        "id": "bRYUIpjKc-Wt"
      },
      "outputs": [],
      "source": []
    },
    {
      "cell_type": "markdown",
      "source": [
        "Set Exercises:\n"
      ],
      "metadata": {
        "id": "07CeDRpXdfVV"
      }
    },
    {
      "cell_type": "code",
      "source": [
        "!git clone https://github.com/pdivase/python.git"
      ],
      "metadata": {
        "colab": {
          "base_uri": "https://localhost:8080/",
          "height": 0
        },
        "id": "ekDWV1sf4mNu",
        "outputId": "077a96ab-de43-43f6-9ad5-a99f2b4150ac"
      },
      "execution_count": 2,
      "outputs": [
        {
          "output_type": "stream",
          "name": "stdout",
          "text": [
            "fatal: destination path 'python' already exists and is not an empty directory.\n"
          ]
        }
      ]
    },
    {
      "cell_type": "code",
      "source": [],
      "metadata": {
        "id": "ya3izrHB5nRL"
      },
      "execution_count": null,
      "outputs": []
    },
    {
      "cell_type": "code",
      "source": [
        "#.Q 1. write a python program to find the union of two sets.\n",
        "\n",
        "A = {2,4,5,6}\n",
        "B = {4,6,7,8}\n",
        "print(\"A  U  B:\", A.union(B))"
      ],
      "metadata": {
        "colab": {
          "base_uri": "https://localhost:8080/"
        },
        "id": "4ERnsGr7dpGA",
        "outputId": "555f075f-2f0e-44e9-de0a-66252fc68316"
      },
      "execution_count": null,
      "outputs": [
        {
          "output_type": "stream",
          "name": "stdout",
          "text": [
            "A  U  B: {2, 4, 5, 6, 7, 8}\n"
          ]
        }
      ]
    },
    {
      "cell_type": "code",
      "source": [
        "# Q .2. write a python program to find the intersection of two sets.\n",
        "\n",
        "P = {2,3,5}\n",
        "Q = {1,3,5}\n",
        "print(Q.intersection(P))"
      ],
      "metadata": {
        "colab": {
          "base_uri": "https://localhost:8080/"
        },
        "id": "NG_bKGsQeXhs",
        "outputId": "afe5c8f8-9856-46e2-9790-c5542d05db08"
      },
      "execution_count": null,
      "outputs": [
        {
          "output_type": "stream",
          "name": "stdout",
          "text": [
            "{3, 5}\n"
          ]
        }
      ]
    },
    {
      "cell_type": "code",
      "source": [
        "# Q. 3. write a python program to check if a set is a subset of another set.\n",
        "X = {10,20,30,40,50,60}\n",
        "Y = {50,40,30}\n",
        "Z = {10,20,60,}\n",
        "print(\"X:\",X)\n",
        "print(\"Y:\",Y)\n",
        "print(\"Z:\",Z)\n",
        "print(Y.issubset(X))\n",
        "print(Z.issubset(X))\n",
        "print(Y.issubset(Z))"
      ],
      "metadata": {
        "colab": {
          "base_uri": "https://localhost:8080/"
        },
        "id": "XFZEqoMifFsT",
        "outputId": "31d79b52-5d47-4c38-d96c-c3dd1603139b"
      },
      "execution_count": null,
      "outputs": [
        {
          "output_type": "stream",
          "name": "stdout",
          "text": [
            "X: {50, 20, 40, 10, 60, 30}\n",
            "Y: {40, 50, 30}\n",
            "Z: {10, 20, 60}\n",
            "True\n",
            "True\n",
            "False\n"
          ]
        }
      ]
    },
    {
      "cell_type": "code",
      "source": [
        "# Q. 4 write a python program to remove duplicate elements from a set.\n",
        "my_set = {1,2,2,3,4,4,5,5,6}\n",
        "unique_set = set(list(my_set))\n",
        "print('set after removing duplicates:', unique_set)"
      ],
      "metadata": {
        "colab": {
          "base_uri": "https://localhost:8080/"
        },
        "id": "lZnytYGmgIxs",
        "outputId": "05f096da-e48d-44e0-efa8-67aa9ed97795"
      },
      "execution_count": null,
      "outputs": [
        {
          "output_type": "stream",
          "name": "stdout",
          "text": [
            "set after removing duplicates: {1, 2, 3, 4, 5, 6}\n"
          ]
        }
      ]
    },
    {
      "cell_type": "code",
      "source": [
        "# Q. 5. write a python program to add an element from a set.\n",
        "A = {1,2,3,4,5}\n",
        "A.add(6)\n",
        "print(\"A:\",A)\n"
      ],
      "metadata": {
        "colab": {
          "base_uri": "https://localhost:8080/"
        },
        "id": "6GuFesBRhtEI",
        "outputId": "e96d9709-1d1c-4c2c-c800-2914c4d00368"
      },
      "execution_count": null,
      "outputs": [
        {
          "output_type": "stream",
          "name": "stdout",
          "text": [
            "A: {1, 2, 3, 4, 5, 6}\n"
          ]
        }
      ]
    },
    {
      "cell_type": "code",
      "source": [
        "# Q.6. write a python program to remove an element from a set.\n",
        "X = set([0,1,3,4,5])\n",
        "print('original set:')\n",
        "print(X)\n",
        "X.pop()\n",
        "print(\"\\n After removing the element from the said set:\")\n",
        "print(X)\n"
      ],
      "metadata": {
        "colab": {
          "base_uri": "https://localhost:8080/"
        },
        "id": "FLcge7rBjOzX",
        "outputId": "eb506f30-d686-41d9-83b4-8ee404c06c71"
      },
      "execution_count": null,
      "outputs": [
        {
          "output_type": "stream",
          "name": "stdout",
          "text": [
            "original set:\n",
            "{0, 1, 3, 4, 5}\n",
            "\n",
            " After removing the element from the said set:\n",
            "{1, 3, 4, 5}\n"
          ]
        }
      ]
    },
    {
      "cell_type": "code",
      "source": [
        "# Q. 7. write a python program to find the difference between two sets.\n",
        "A = {10,20,30,40,50,60}\n",
        "B = {100,30,40,60,90,20}\n",
        "print(A.difference(B))\n",
        "print(B.difference(A))"
      ],
      "metadata": {
        "colab": {
          "base_uri": "https://localhost:8080/"
        },
        "id": "4hOo8iICkQEq",
        "outputId": "69120832-b274-4552-a739-190c85a83a02"
      },
      "execution_count": null,
      "outputs": [
        {
          "output_type": "stream",
          "name": "stdout",
          "text": [
            "{50, 10}\n",
            "{90, 100}\n"
          ]
        }
      ]
    },
    {
      "cell_type": "code",
      "source": [
        "# .Q .8. write a python program to check if two sets are disjoint.\n",
        "X = {'Apple', 'Banana', 'Cherry'}\n",
        "Y = {'google', 'microsoft', 'facebook'}\n",
        "Z = X.isdisjoint(Y)\n",
        "print(Z)"
      ],
      "metadata": {
        "colab": {
          "base_uri": "https://localhost:8080/"
        },
        "id": "9I8vNIeGm7Ka",
        "outputId": "2df5eb79-c104-4e21-b667-b96ae0044afe"
      },
      "execution_count": null,
      "outputs": [
        {
          "output_type": "stream",
          "name": "stdout",
          "text": [
            "True\n"
          ]
        }
      ]
    },
    {
      "cell_type": "code",
      "source": [
        "# Q . 9. write python program to find the symmetric difference between two sets.\n",
        "A = {1,2,3,4,5}\n",
        "B = {3,4,5,6,7}\n",
        "symmetric_diff = A^B\n",
        "print('symmetric difference:',symmetric_diff)\n"
      ],
      "metadata": {
        "colab": {
          "base_uri": "https://localhost:8080/"
        },
        "id": "HJZ065uLn0uy",
        "outputId": "f03cbc47-561e-4a9e-e1cb-df35c0f75571"
      },
      "execution_count": null,
      "outputs": [
        {
          "output_type": "stream",
          "name": "stdout",
          "text": [
            "symmetric difference: {1, 2, 6, 7}\n"
          ]
        }
      ]
    },
    {
      "cell_type": "code",
      "source": [
        "# Q. 10. write a python program to check if a set is empty.\n",
        "X = {}\n",
        "if not X:# using not operator\n",
        "  print('set is empty')\n",
        "else:\n",
        "  print('set is not empty')\n"
      ],
      "metadata": {
        "colab": {
          "base_uri": "https://localhost:8080/"
        },
        "id": "6ViZGyb9rNf_",
        "outputId": "a3aaec73-8a85-4ad4-bb49-9ddab115791d"
      },
      "execution_count": null,
      "outputs": [
        {
          "output_type": "stream",
          "name": "stdout",
          "text": [
            "set is empty\n"
          ]
        }
      ]
    },
    {
      "cell_type": "markdown",
      "source": [
        "Dictionary Exercises"
      ],
      "metadata": {
        "id": "9XpDp9E-t6rL"
      }
    },
    {
      "cell_type": "code",
      "source": [
        "# .Q. 1 . write a python program to iterate over a dictionary and print its keys and values.\n",
        "dt = {'a':'juice', 'b':'grill','c':'corn'}\n",
        "for key,value in dt.items():\n",
        "\n",
        " print(key, value)"
      ],
      "metadata": {
        "colab": {
          "base_uri": "https://localhost:8080/"
        },
        "id": "L_S1qFA0uA2b",
        "outputId": "ec4c98cc-142d-43ac-bcd6-4258cc597f14"
      },
      "execution_count": null,
      "outputs": [
        {
          "output_type": "stream",
          "name": "stdout",
          "text": [
            "a juice\n",
            "b grill\n",
            "c corn\n"
          ]
        }
      ]
    },
    {
      "cell_type": "code",
      "source": [
        "#.Q.2. write a python program to check if a key exists in a dictionary.\n",
        "A = {'P':'Pune', 'M':'Mumbai', 'S':'Solapur', 'K':'Kolhapur'}\n",
        "if 'M' in A:\n",
        "  print('key exists in the dictionary.')\n",
        "else:\n",
        "  print('key does not exist in the dictionary.')"
      ],
      "metadata": {
        "colab": {
          "base_uri": "https://localhost:8080/"
        },
        "id": "JZ4gTUF3u7Gm",
        "outputId": "13eec7a8-d385-4c1e-a232-9cfb9e781550"
      },
      "execution_count": null,
      "outputs": [
        {
          "output_type": "stream",
          "name": "stdout",
          "text": [
            "key exists in the dictionary.\n"
          ]
        }
      ]
    },
    {
      "cell_type": "code",
      "source": [
        "#.Q.3. write a python program to get the value associated with a key in a dictionary.\n",
        "my_dict = {'name':'poonam','age': 25,'city':'Pune'}\n",
        "key_to_get = 'name'\n",
        "if  key_to_get in my_dict:\n",
        "  value = my_dict[key_to_get]\n",
        "  print(f\"the value associated with '{key_to_get}'is: {value}\")\n",
        "else:\n",
        "  print(f\"'{key_to_get}' does not exist in the dictionary.\")\n"
      ],
      "metadata": {
        "colab": {
          "base_uri": "https://localhost:8080/"
        },
        "id": "mUNoSWlAwybv",
        "outputId": "bb56e063-1199-44dc-ee35-eef40e9c5512"
      },
      "execution_count": null,
      "outputs": [
        {
          "output_type": "stream",
          "name": "stdout",
          "text": [
            "the value associated with 'name'is: poonam\n"
          ]
        }
      ]
    },
    {
      "cell_type": "code",
      "source": [
        "#.Q.4.write a python program to remove a key from a dictionary.\n",
        "new_dict = {'a':1,'b':2,'c':3,'d':4}\n",
        "print(new_dict)\n",
        "if 'd' in new_dict:\n",
        "  del new_dict['d']\n",
        "print(new_dict)"
      ],
      "metadata": {
        "colab": {
          "base_uri": "https://localhost:8080/"
        },
        "id": "sGxpROn4zSFd",
        "outputId": "172e81c7-b369-4850-efa2-76071b612155"
      },
      "execution_count": null,
      "outputs": [
        {
          "output_type": "stream",
          "name": "stdout",
          "text": [
            "{'a': 1, 'b': 2, 'c': 3, 'd': 4}\n",
            "{'a': 1, 'b': 2, 'c': 3}\n"
          ]
        }
      ]
    },
    {
      "cell_type": "code",
      "source": [
        "#.Q.5. write a python program to sort a dictionary by its values.\n",
        "dict = {1:'poonam',2:'pooja', 3:'mayuri', 4:'geetanjali'}\n",
        "sorted_dict = {key:value for key, value in sorted(dict.items(), key=lambda item: item[1])}\n",
        "(sorted_dict)"
      ],
      "metadata": {
        "colab": {
          "base_uri": "https://localhost:8080/"
        },
        "id": "1hAkXhf_1t5V",
        "outputId": "fd15ad5f-9565-4bdf-f193-658e256273d4"
      },
      "execution_count": null,
      "outputs": [
        {
          "output_type": "execute_result",
          "data": {
            "text/plain": [
              "{4: 'geetanjali', 3: 'mayuri', 2: 'pooja', 1: 'poonam'}"
            ]
          },
          "metadata": {},
          "execution_count": 59
        }
      ]
    },
    {
      "cell_type": "code",
      "source": [],
      "metadata": {
        "id": "u4-IghaS27MV"
      },
      "execution_count": null,
      "outputs": []
    }
  ]
}