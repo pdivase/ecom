{
  "nbformat": 4,
  "nbformat_minor": 0,
  "metadata": {
    "colab": {
      "provenance": [],
      "authorship_tag": "ABX9TyNNcHjJYs4ZM0zjwF+s0afm",
      "include_colab_link": true
    },
    "kernelspec": {
      "name": "python3",
      "display_name": "Python 3"
    },
    "language_info": {
      "name": "python"
    }
  },
  "cells": [
    {
      "cell_type": "markdown",
      "metadata": {
        "id": "view-in-github",
        "colab_type": "text"
      },
      "source": [
        "<a href=\"https://colab.research.google.com/github/pdivase/ecom/blob/main/String.ipynb\" target=\"_parent\"><img src=\"https://colab.research.google.com/assets/colab-badge.svg\" alt=\"Open In Colab\"/></a>"
      ]
    },
    {
      "cell_type": "markdown",
      "source": [
        "String Excercise:"
      ],
      "metadata": {
        "id": "fINXcgvnibBQ"
      }
    },
    {
      "cell_type": "code",
      "source": [
        "#.Q.1 write a python program to count the number of characters in string.\n",
        "input_string = input(\"enter a string:\")\n",
        "char_count = 0\n",
        "for char in input_string:\n",
        "  char_count +=1\n",
        "print(\"the number of characters in  the string is:\", char_count)"
      ],
      "metadata": {
        "colab": {
          "base_uri": "https://localhost:8080/"
        },
        "id": "nAusHnu6ifOm",
        "outputId": "b4e0dc91-03bd-4feb-aaca-ba6fb640d8a0"
      },
      "execution_count": null,
      "outputs": [
        {
          "output_type": "stream",
          "name": "stdout",
          "text": [
            "enter a string:poonam\n",
            "the number of characters in  the string is: 6\n"
          ]
        }
      ]
    },
    {
      "cell_type": "code",
      "source": [
        "#.Q.2. write a python program to reverse a string\n",
        "input_string = input(\"Enter a string:\")\n",
        "\n",
        "reversed_string = input_string[::-1]\n",
        "print(\"reversed string:\", reversed_string)"
      ],
      "metadata": {
        "colab": {
          "base_uri": "https://localhost:8080/"
        },
        "id": "xnY88BJijXga",
        "outputId": "32745053-9b69-48c5-dc96-3ac9c1bf5951"
      },
      "execution_count": null,
      "outputs": [
        {
          "output_type": "stream",
          "name": "stdout",
          "text": [
            "Enter a string:shivansh\n",
            "reversed string: hsnavihs\n"
          ]
        }
      ]
    },
    {
      "cell_type": "code",
      "source": [
        "#.Q.3. write a python program to check if a string is a palindrome\n",
        "input_string = input(\"enter a string:\")\n",
        "cleaned_string = input_string.replace(' ',' ').lower()\n",
        "reversed_string == reversed_string[::-1]\n",
        "if cleaned_string == reversed_string:\n",
        "  print(\"the string is a palindrome\")\n",
        "else:\n",
        "  print(\"the string is not a palindrome\")\n"
      ],
      "metadata": {
        "colab": {
          "base_uri": "https://localhost:8080/"
        },
        "id": "oJkC0sQfj-Jl",
        "outputId": "c758fdf4-d41c-4e00-c35b-0e21653df4b6"
      },
      "execution_count": null,
      "outputs": [
        {
          "output_type": "stream",
          "name": "stdout",
          "text": [
            "enter a string:devansh\n",
            "the string is not a palindrome\n"
          ]
        }
      ]
    },
    {
      "cell_type": "code",
      "source": [
        "#.Q.4. write a python program to remove all the vowels from string\n",
        "def remove_vowels(input_string):\n",
        "  vowels = \"AEIOUaeiou\"\n",
        "  result = \" \"\n",
        "  for char in input_string:\n",
        "    if char not in vowels:\n",
        "      result += char\n",
        "  return result\n",
        "input_str = input(\"enter a string:\")\n",
        "result_str = remove_vowels(input_str)\n",
        "print(\"string without vowels:\", result_str)"
      ],
      "metadata": {
        "colab": {
          "base_uri": "https://localhost:8080/"
        },
        "id": "OC9qwQ3akteK",
        "outputId": "313478fc-afd6-45ae-fff3-ea55dac02f22"
      },
      "execution_count": null,
      "outputs": [
        {
          "output_type": "stream",
          "name": "stdout",
          "text": [
            "enter a string:e\n",
            "string without vowels:  \n"
          ]
        }
      ]
    },
    {
      "cell_type": "code",
      "source": [
        "#.Q.5. write a python program to find the first non-repating character in a string.\n",
        "def first_non_repeating_char(input_str):\n",
        "  char_count = {}\n",
        "  for char in input_str:\n",
        "    if char in char_count:\n",
        "      char_count[count] +=1\n",
        "    else:\n",
        "      char_count[char] = 1\n",
        "\n",
        "  for char in input_str:\n",
        "    if char_count[char] == 1:\n",
        "      return char\n",
        "    return None\n",
        "input_str = input(\"enter a string:\")\n",
        "result = first_non_repeating_char(input_str)\n",
        "if result is not None:\n",
        "  print(\"first non-repeating character:\", result)\n",
        "else:\n",
        "  print(\"no non-repeating character found in the string.\")"
      ],
      "metadata": {
        "colab": {
          "base_uri": "https://localhost:8080/"
        },
        "id": "hP9t5XgzlkqE",
        "outputId": "d4855f30-8081-4c54-84a5-d723b2d3d0f6"
      },
      "execution_count": null,
      "outputs": [
        {
          "output_type": "stream",
          "name": "stdout",
          "text": [
            "enter a string:A\n",
            "first non-repeating character: A\n"
          ]
        }
      ]
    },
    {
      "cell_type": "code",
      "source": [
        "#.Q.6. write a python program to capitalize the first letter of each word in a string\n",
        "string = 'i am poonam'\n",
        "print(string.title())"
      ],
      "metadata": {
        "id": "r6wpTXi9ogOX",
        "colab": {
          "base_uri": "https://localhost:8080/"
        },
        "outputId": "1ef34129-589b-4590-cc62-9d6947b74abc"
      },
      "execution_count": 2,
      "outputs": [
        {
          "output_type": "stream",
          "name": "stdout",
          "text": [
            "I Am Poonam\n"
          ]
        }
      ]
    },
    {
      "cell_type": "code",
      "source": [
        "#.Q.7.Write a python program to check if string is an anagram of another string.\n",
        "a = input(\"enter first string: \")\n",
        "b = input(\"enter seconf string:\")\n",
        "if(sorted(a)== sorted(b)):\n",
        "  print(\"string are anagram\")\n",
        "else:\n",
        "  print(\"string are anagram\")"
      ],
      "metadata": {
        "id": "n6juNZh1rZBQ",
        "colab": {
          "base_uri": "https://localhost:8080/"
        },
        "outputId": "aee9187d-3c6f-47f7-bc44-61815d7e8aa3"
      },
      "execution_count": 3,
      "outputs": [
        {
          "output_type": "stream",
          "name": "stdout",
          "text": [
            "enter first string: abcn\n",
            "enter seconf string:hgdhdsfi\n",
            "string are anagram\n"
          ]
        }
      ]
    },
    {
      "cell_type": "code",
      "source": [
        "#.Q.8. write a python program to find the most frequent character in a string.\n",
        "from collections import Counter\n",
        "\n",
        "string = 'aaabbc'\n",
        "counter = Counter(string)\n",
        "most_frequent= counter.most_common(1)[0]\n",
        "print(most_frequent)\n",
        "print(most_frequent[0])\n",
        "most_frequent_2 = counter.most_common(2)\n",
        "print(most_frequent_2)"
      ],
      "metadata": {
        "colab": {
          "base_uri": "https://localhost:8080/"
        },
        "id": "a33WeXa9aQXF",
        "outputId": "f72098e5-b6b2-477f-a22c-a71719310a53"
      },
      "execution_count": 4,
      "outputs": [
        {
          "output_type": "stream",
          "name": "stdout",
          "text": [
            "('a', 3)\n",
            "a\n",
            "[('a', 3), ('b', 2)]\n"
          ]
        }
      ]
    },
    {
      "cell_type": "code",
      "source": [
        "#.Q.9. write a python to check if a string is a valid email address.\n",
        "import re\n",
        "email = \"Yadavpunam1218@gmail.com\"\n",
        "email_pattern= r'^[\\w\\.]+@[\\w\\.-]+\\w.+'\n",
        "if re.match(email_pattern, email):\n",
        "  print(f\"{email} is valid email_id\")\n",
        "else:\n",
        "  print(f\"{email} is invalid email_id\")\n",
        "\n"
      ],
      "metadata": {
        "colab": {
          "base_uri": "https://localhost:8080/"
        },
        "id": "jUt0NRJ8clqE",
        "outputId": "3fad560f-886b-4223-c5ac-8f1923d2867d"
      },
      "execution_count": 7,
      "outputs": [
        {
          "output_type": "stream",
          "name": "stdout",
          "text": [
            "Yadavpunam1218@gmail.com is valid email_id\n"
          ]
        }
      ]
    },
    {
      "cell_type": "code",
      "source": [
        "#.Q.10. write a python program to find the length of the longest substring without repeating characters.\n",
        "def longest_substring_length(s):\n",
        "  if not s:\n",
        "    return 0\n",
        "  char_index ={}\n",
        "  max_length = 0\n",
        "  start = 0\n",
        "\n",
        "  for end in range(len(s)):\n",
        "    if s[end] in char_index and char_index[s[end]] >= start:\n",
        "      start = char_index[s[end]]+1\n",
        "    char_index[s[end]]=end\n",
        "    max_length = max(max_length, end - start + 1)\n",
        "  print(max_length)\n",
        "input_string = (\"shkudfhilsjf\")\n",
        "result = longest_substring_length(input_string)\n",
        "result\n"
      ],
      "metadata": {
        "colab": {
          "base_uri": "https://localhost:8080/"
        },
        "id": "YgUJi7UenBbh",
        "outputId": "efa9d5e3-8571-46c4-bede-f5e9456827f9"
      },
      "execution_count": 10,
      "outputs": [
        {
          "output_type": "stream",
          "name": "stdout",
          "text": [
            "9\n"
          ]
        }
      ]
    },
    {
      "cell_type": "code",
      "source": [
        "\n"
      ],
      "metadata": {
        "id": "DqvRsFHBnqej"
      },
      "execution_count": null,
      "outputs": []
    }
  ]
}