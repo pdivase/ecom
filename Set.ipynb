{
  "nbformat": 4,
  "nbformat_minor": 0,
  "metadata": {
    "colab": {
      "provenance": [],
      "authorship_tag": "ABX9TyNIOvygIDrTunq+IjaammGP",
      "include_colab_link": true
    },
    "kernelspec": {
      "name": "python3",
      "display_name": "Python 3"
    },
    "language_info": {
      "name": "python"
    }
  },
  "cells": [
    {
      "cell_type": "markdown",
      "metadata": {
        "id": "view-in-github",
        "colab_type": "text"
      },
      "source": [
        "<a href=\"https://colab.research.google.com/github/pdivase/ecom/blob/main/Set.ipynb\" target=\"_parent\"><img src=\"https://colab.research.google.com/assets/colab-badge.svg\" alt=\"Open In Colab\"/></a>"
      ]
    },
    {
      "cell_type": "markdown",
      "source": [
        "Set Exercises:\n"
      ],
      "metadata": {
        "id": "07CeDRpXdfVV"
      }
    },
    {
      "cell_type": "code",
      "source": [
        "#.Q 1. write a python program to find the union of two sets.\n",
        "\n",
        "A = {2,4,5,6}\n",
        "B = {4,6,7,8}\n",
        "print(\"A  U  B:\", A.union(B))"
      ],
      "metadata": {
        "colab": {
          "base_uri": "https://localhost:8080/"
        },
        "id": "4ERnsGr7dpGA",
        "outputId": "555f075f-2f0e-44e9-de0a-66252fc68316"
      },
      "execution_count": null,
      "outputs": [
        {
          "output_type": "stream",
          "name": "stdout",
          "text": [
            "A  U  B: {2, 4, 5, 6, 7, 8}\n"
          ]
        }
      ]
    },
    {
      "cell_type": "code",
      "source": [
        "# Q .2. write a python program to find the intersection of two sets.\n",
        "\n",
        "P = {2,3,5}\n",
        "Q = {1,3,5}\n",
        "print(Q.intersection(P))"
      ],
      "metadata": {
        "colab": {
          "base_uri": "https://localhost:8080/"
        },
        "id": "NG_bKGsQeXhs",
        "outputId": "afe5c8f8-9856-46e2-9790-c5542d05db08"
      },
      "execution_count": null,
      "outputs": [
        {
          "output_type": "stream",
          "name": "stdout",
          "text": [
            "{3, 5}\n"
          ]
        }
      ]
    },
    {
      "cell_type": "code",
      "source": [
        "# Q. 3. write a python program to check if a set is a subset of another set.\n",
        "X = {10,20,30,40,50,60}\n",
        "Y = {50,40,30}\n",
        "Z = {10,20,60,}\n",
        "print(\"X:\",X)\n",
        "print(\"Y:\",Y)\n",
        "print(\"Z:\",Z)\n",
        "print(Y.issubset(X))\n",
        "print(Z.issubset(X))\n",
        "print(Y.issubset(Z))"
      ],
      "metadata": {
        "colab": {
          "base_uri": "https://localhost:8080/"
        },
        "id": "XFZEqoMifFsT",
        "outputId": "31d79b52-5d47-4c38-d96c-c3dd1603139b"
      },
      "execution_count": null,
      "outputs": [
        {
          "output_type": "stream",
          "name": "stdout",
          "text": [
            "X: {50, 20, 40, 10, 60, 30}\n",
            "Y: {40, 50, 30}\n",
            "Z: {10, 20, 60}\n",
            "True\n",
            "True\n",
            "False\n"
          ]
        }
      ]
    },
    {
      "cell_type": "code",
      "source": [
        "# Q. 4 write a python program to remove duplicate elements from a set.\n",
        "my_set = {1,2,2,3,4,4,5,5,6}\n",
        "unique_set = set(list(my_set))\n",
        "print('set after removing duplicates:', unique_set)"
      ],
      "metadata": {
        "colab": {
          "base_uri": "https://localhost:8080/"
        },
        "id": "lZnytYGmgIxs",
        "outputId": "05f096da-e48d-44e0-efa8-67aa9ed97795"
      },
      "execution_count": null,
      "outputs": [
        {
          "output_type": "stream",
          "name": "stdout",
          "text": [
            "set after removing duplicates: {1, 2, 3, 4, 5, 6}\n"
          ]
        }
      ]
    },
    {
      "cell_type": "code",
      "source": [
        "# Q. 5. write a python program to add an element from a set.\n",
        "A = {1,2,3,4,5}\n",
        "A.add(6)\n",
        "print(\"A:\",A)\n"
      ],
      "metadata": {
        "colab": {
          "base_uri": "https://localhost:8080/"
        },
        "id": "6GuFesBRhtEI",
        "outputId": "e96d9709-1d1c-4c2c-c800-2914c4d00368"
      },
      "execution_count": null,
      "outputs": [
        {
          "output_type": "stream",
          "name": "stdout",
          "text": [
            "A: {1, 2, 3, 4, 5, 6}\n"
          ]
        }
      ]
    },
    {
      "cell_type": "code",
      "source": [
        "# Q.6. write a python program to remove an element from a set.\n",
        "X = set([0,1,3,4,5])\n",
        "print('original set:')\n",
        "print(X)\n",
        "X.pop()\n",
        "print(\"\\n After removing the element from the said set:\")\n",
        "print(X)\n"
      ],
      "metadata": {
        "colab": {
          "base_uri": "https://localhost:8080/"
        },
        "id": "FLcge7rBjOzX",
        "outputId": "eb506f30-d686-41d9-83b4-8ee404c06c71"
      },
      "execution_count": null,
      "outputs": [
        {
          "output_type": "stream",
          "name": "stdout",
          "text": [
            "original set:\n",
            "{0, 1, 3, 4, 5}\n",
            "\n",
            " After removing the element from the said set:\n",
            "{1, 3, 4, 5}\n"
          ]
        }
      ]
    },
    {
      "cell_type": "code",
      "source": [
        "# Q. 7. write a python program to find the difference between two sets.\n",
        "A = {10,20,30,40,50,60}\n",
        "B = {100,30,40,60,90,20}\n",
        "print(A.difference(B))\n",
        "print(B.difference(A))"
      ],
      "metadata": {
        "colab": {
          "base_uri": "https://localhost:8080/"
        },
        "id": "4hOo8iICkQEq",
        "outputId": "69120832-b274-4552-a739-190c85a83a02"
      },
      "execution_count": null,
      "outputs": [
        {
          "output_type": "stream",
          "name": "stdout",
          "text": [
            "{50, 10}\n",
            "{90, 100}\n"
          ]
        }
      ]
    },
    {
      "cell_type": "code",
      "source": [
        "# .Q .8. write a python program to check if two sets are disjoint.\n",
        "X = {'Apple', 'Banana', 'Cherry'}\n",
        "Y = {'google', 'microsoft', 'facebook'}\n",
        "Z = X.isdisjoint(Y)\n",
        "print(Z)"
      ],
      "metadata": {
        "colab": {
          "base_uri": "https://localhost:8080/"
        },
        "id": "9I8vNIeGm7Ka",
        "outputId": "2df5eb79-c104-4e21-b667-b96ae0044afe"
      },
      "execution_count": null,
      "outputs": [
        {
          "output_type": "stream",
          "name": "stdout",
          "text": [
            "True\n"
          ]
        }
      ]
    },
    {
      "cell_type": "code",
      "source": [
        "# Q . 9. write python program to find the symmetric difference between two sets.\n",
        "A = {1,2,3,4,5}\n",
        "B = {3,4,5,6,7}\n",
        "symmetric_diff = A^B\n",
        "print('symmetric difference:',symmetric_diff)\n"
      ],
      "metadata": {
        "colab": {
          "base_uri": "https://localhost:8080/"
        },
        "id": "HJZ065uLn0uy",
        "outputId": "f03cbc47-561e-4a9e-e1cb-df35c0f75571"
      },
      "execution_count": null,
      "outputs": [
        {
          "output_type": "stream",
          "name": "stdout",
          "text": [
            "symmetric difference: {1, 2, 6, 7}\n"
          ]
        }
      ]
    },
    {
      "cell_type": "code",
      "source": [
        "# Q. 10. write a python program to check if a set is empty.\n",
        "X = {}\n",
        "if not X:# using not operator\n",
        "  print('set is empty')\n",
        "else:\n",
        "  print('set is not empty')\n"
      ],
      "metadata": {
        "colab": {
          "base_uri": "https://localhost:8080/"
        },
        "id": "6ViZGyb9rNf_",
        "outputId": "a3aaec73-8a85-4ad4-bb49-9ddab115791d"
      },
      "execution_count": null,
      "outputs": [
        {
          "output_type": "stream",
          "name": "stdout",
          "text": [
            "set is empty\n"
          ]
        }
      ]
    },
    {
      "cell_type": "markdown",
      "source": [
        "Dictionary Exercises"
      ],
      "metadata": {
        "id": "9XpDp9E-t6rL"
      }
    },
    {
      "cell_type": "code",
      "source": [
        "# .Q. 1 . write a python program to iterate over a dictionary and print its keys and values.\n",
        "dt = {'a':'juice', 'b':'grill','c':'corn'}\n",
        "for key,value in dt.items():\n",
        "\n",
        " print(key, value)"
      ],
      "metadata": {
        "colab": {
          "base_uri": "https://localhost:8080/"
        },
        "id": "L_S1qFA0uA2b",
        "outputId": "ec4c98cc-142d-43ac-bcd6-4258cc597f14"
      },
      "execution_count": null,
      "outputs": [
        {
          "output_type": "stream",
          "name": "stdout",
          "text": [
            "a juice\n",
            "b grill\n",
            "c corn\n"
          ]
        }
      ]
    },
    {
      "cell_type": "code",
      "source": [
        "#.Q.2. write a python program to check if a key exists in a dictionary.\n",
        "A = {'P':'Pune', 'M':'Mumbai', 'S':'Solapur', 'K':'Kolhapur'}\n",
        "if 'M' in A:\n",
        "  print('key exists in the dictionary.')\n",
        "else:\n",
        "  print('key does not exist in the dictionary.')"
      ],
      "metadata": {
        "colab": {
          "base_uri": "https://localhost:8080/"
        },
        "id": "JZ4gTUF3u7Gm",
        "outputId": "13eec7a8-d385-4c1e-a232-9cfb9e781550"
      },
      "execution_count": null,
      "outputs": [
        {
          "output_type": "stream",
          "name": "stdout",
          "text": [
            "key exists in the dictionary.\n"
          ]
        }
      ]
    },
    {
      "cell_type": "code",
      "source": [
        "#.Q.3. write a python program to get the value associated with a key in a dictionary.\n",
        "my_dict = {'name':'poonam','age': 25,'city':'Pune'}\n",
        "key_to_get = 'name'\n",
        "if  key_to_get in my_dict:\n",
        "  value = my_dict[key_to_get]\n",
        "  print(f\"the value associated with '{key_to_get}'is: {value}\")\n",
        "else:\n",
        "  print(f\"'{key_to_get}' does not exist in the dictionary.\")\n"
      ],
      "metadata": {
        "colab": {
          "base_uri": "https://localhost:8080/"
        },
        "id": "mUNoSWlAwybv",
        "outputId": "bb56e063-1199-44dc-ee35-eef40e9c5512"
      },
      "execution_count": null,
      "outputs": [
        {
          "output_type": "stream",
          "name": "stdout",
          "text": [
            "the value associated with 'name'is: poonam\n"
          ]
        }
      ]
    },
    {
      "cell_type": "code",
      "source": [
        "#.Q.4.write a python program to remove a key from a dictionary.\n",
        "new_dict = {'a':1,'b':2,'c':3,'d':4}\n",
        "print(new_dict)\n",
        "if 'd' in new_dict:\n",
        "  del new_dict['d']\n",
        "print(new_dict)"
      ],
      "metadata": {
        "colab": {
          "base_uri": "https://localhost:8080/"
        },
        "id": "sGxpROn4zSFd",
        "outputId": "172e81c7-b369-4850-efa2-76071b612155"
      },
      "execution_count": null,
      "outputs": [
        {
          "output_type": "stream",
          "name": "stdout",
          "text": [
            "{'a': 1, 'b': 2, 'c': 3, 'd': 4}\n",
            "{'a': 1, 'b': 2, 'c': 3}\n"
          ]
        }
      ]
    },
    {
      "cell_type": "code",
      "source": [
        "#.Q.5. write a python program to sort a dictionary by its values.\n",
        "dict = {1:'poonam',2:'pooja', 3:'mayuri', 4:'geetanjali'}\n",
        "sorted_dict = {key:value for key, value in sorted(dict.items(), key=lambda item: item[1])}\n",
        "(sorted_dict)"
      ],
      "metadata": {
        "colab": {
          "base_uri": "https://localhost:8080/"
        },
        "id": "1hAkXhf_1t5V",
        "outputId": "fd15ad5f-9565-4bdf-f193-658e256273d4"
      },
      "execution_count": null,
      "outputs": [
        {
          "output_type": "execute_result",
          "data": {
            "text/plain": [
              "{4: 'geetanjali', 3: 'mayuri', 2: 'pooja', 1: 'poonam'}"
            ]
          },
          "metadata": {},
          "execution_count": 59
        }
      ]
    },
    {
      "cell_type": "code",
      "source": [
        "# Q.6. write a python program to merge two dictionaries.\n",
        "def merge(A, B):\n",
        "  return(B.update(A))\n",
        "A = {'a':10, 'b':8, 'c':5, 'd':6}\n",
        "B = {1:'poonam', 2:'Pooja', 3:'shivansh', 4:'devansh' }\n",
        "print(merge(A,B))\n",
        "print(B)"
      ],
      "metadata": {
        "id": "u4-IghaS27MV",
        "colab": {
          "base_uri": "https://localhost:8080/"
        },
        "outputId": "340b4b5b-55eb-4986-d302-ec8f6fd77745"
      },
      "execution_count": null,
      "outputs": [
        {
          "output_type": "stream",
          "name": "stdout",
          "text": [
            "None\n",
            "{1: 'poonam', 2: 'Pooja', 3: 'shivansh', 4: 'devansh', 'a': 10, 'b': 8, 'c': 5, 'd': 6}\n"
          ]
        }
      ]
    },
    {
      "cell_type": "code",
      "source": [
        "# Q. 7. write a python program to count the frequency of each element in a dictinary.\n",
        "!pip install counter"
      ],
      "metadata": {
        "colab": {
          "base_uri": "https://localhost:8080/"
        },
        "id": "B3r9O-IWEbyv",
        "outputId": "38ef7431-f295-4474-a69d-a0407b442619"
      },
      "execution_count": null,
      "outputs": [
        {
          "output_type": "stream",
          "name": "stdout",
          "text": [
            "Requirement already satisfied: counter in /usr/local/lib/python3.10/dist-packages (1.0.0)\n"
          ]
        }
      ]
    },
    {
      "cell_type": "code",
      "source": [
        "from collections import Counter\n",
        "def test(Dict):\n",
        "  result = Counter(dict.values())\n",
        "  return result\n",
        "\n",
        "dict = {'A':10, 'B':15, 'C':20, 'D':10, 'E':15, 'F':10}\n",
        "print('\\n original Dictionary:')\n",
        "print(dict)\n",
        "print('\\nCount the frequency of the said dictionary:')\n",
        "print(test(dict))"
      ],
      "metadata": {
        "colab": {
          "base_uri": "https://localhost:8080/"
        },
        "id": "sRaCPYQTF_I0",
        "outputId": "61acd8cd-3469-493a-e657-7ac08a35d616"
      },
      "execution_count": null,
      "outputs": [
        {
          "output_type": "stream",
          "name": "stdout",
          "text": [
            "\n",
            " original Dictionary:\n",
            "{'A': 10, 'B': 15, 'C': 20, 'D': 10, 'E': 15, 'F': 10}\n",
            "\n",
            "Count the frequency of the said dictionary:\n",
            "Counter({10: 3, 15: 2, 20: 1})\n"
          ]
        }
      ]
    },
    {
      "cell_type": "code",
      "source": [
        "#.Q.8.write a python program to find the length of a dictionary.\n",
        "X ={'Name':'Devansh', 'Age':25, 'Designation':'Developer','City':'Pune'}\n",
        "print('Dictionary:', X)\n",
        "print('Length of dictionary:', len(X))"
      ],
      "metadata": {
        "colab": {
          "base_uri": "https://localhost:8080/"
        },
        "id": "_6DVAHjgGQA7",
        "outputId": "9257134d-529e-43b5-bc17-69b0e647a0f8"
      },
      "execution_count": null,
      "outputs": [
        {
          "output_type": "stream",
          "name": "stdout",
          "text": [
            "Dictionary: {'Name': 'Devansh', 'Age': 25, 'Designation': 'Developer', 'City': 'Pune'}\n",
            "Length of dictionary: 4\n"
          ]
        }
      ]
    },
    {
      "cell_type": "code",
      "source": [
        "#.Q.9. write a python program to check if a dictionary is empty.\n",
        "A = {}\n",
        "print('the original dictionary :'+ str(A))\n",
        "B = not bool(A)\n",
        "print('is dictionary empty ? :' + str(B))"
      ],
      "metadata": {
        "colab": {
          "base_uri": "https://localhost:8080/"
        },
        "id": "-WXwSNrSMxwG",
        "outputId": "b1467316-a416-45ce-a9e5-c23384657b38"
      },
      "execution_count": null,
      "outputs": [
        {
          "output_type": "stream",
          "name": "stdout",
          "text": [
            "the original dictionary :{}\n",
            "is dictionary empty ? :True\n"
          ]
        }
      ]
    },
    {
      "cell_type": "code",
      "source": [
        "#.Q.10. write a python program to find the keys with the maximum and minimum values in a dictionary.\n",
        "D = {'a':100, 'b':20, 'c':50, 'e':80,'f':40}\n",
        "print(max(D))\n",
        "print(min(D))"
      ],
      "metadata": {
        "colab": {
          "base_uri": "https://localhost:8080/"
        },
        "id": "iASlSgnHN9S_",
        "outputId": "d2e48f62-f34e-44fa-ca36-df71e72d47ff"
      },
      "execution_count": null,
      "outputs": [
        {
          "output_type": "stream",
          "name": "stdout",
          "text": [
            "f\n",
            "a\n"
          ]
        }
      ]
    },
    {
      "cell_type": "markdown",
      "source": [
        "Range Exercise."
      ],
      "metadata": {
        "id": "Dk47NqALQK6_"
      }
    },
    {
      "cell_type": "code",
      "source": [
        "#.Q.1. write a python program to iterate over a range of numbers and print them.\n",
        "start = 1\n",
        "end = 10\n",
        "# use a for loop to iterate over the range\n",
        "for num in range(start, end + 1):\n",
        "\n",
        "  print(num)\n"
      ],
      "metadata": {
        "id": "pc9dhh9rQQ1I",
        "colab": {
          "base_uri": "https://localhost:8080/"
        },
        "outputId": "c6d892b5-ac60-4941-ead1-381629e9d95e"
      },
      "execution_count": null,
      "outputs": [
        {
          "output_type": "stream",
          "name": "stdout",
          "text": [
            "1\n",
            "2\n",
            "3\n",
            "4\n",
            "5\n",
            "6\n",
            "7\n",
            "8\n",
            "9\n",
            "10\n"
          ]
        }
      ]
    },
    {
      "cell_type": "code",
      "source": [
        "#.Q.2. write a python program to find the sum of all numbers in a range.\n",
        "start = 1\n",
        "end = 10\n",
        "sum = 0\n",
        "for i in range(start, end+1):\n",
        "  sum+=i\n",
        "print(sum)"
      ],
      "metadata": {
        "colab": {
          "base_uri": "https://localhost:8080/"
        },
        "id": "Ho8PSWVvHPvc",
        "outputId": "e48b80bc-bb81-4d16-fd70-9b933f8c169d"
      },
      "execution_count": null,
      "outputs": [
        {
          "output_type": "stream",
          "name": "stdout",
          "text": [
            "55\n"
          ]
        }
      ]
    },
    {
      "cell_type": "code",
      "source": [
        "#.Q.3. write a python program to print all even numbers in a given range.\n",
        "start = 0\n",
        "end = 20\n",
        "for i in range(0,20):\n",
        "\n",
        " if i%2 == 0:\n",
        "  print(i, end=',')\n"
      ],
      "metadata": {
        "colab": {
          "base_uri": "https://localhost:8080/"
        },
        "id": "fUAom9M5ItCQ",
        "outputId": "8ef8cdd5-97f6-4011-f972-c242c6516ae5"
      },
      "execution_count": null,
      "outputs": [
        {
          "output_type": "stream",
          "name": "stdout",
          "text": [
            "0,2,4,6,8,10,12,14,16,18,"
          ]
        }
      ]
    },
    {
      "cell_type": "code",
      "source": [
        " #.Q.4 write a python program to print all odd numbers in  a given range.\n",
        " start = 0\n",
        " end = 20\n",
        " for i in range(0,20):\n",
        "  if i%2 != 0:\n",
        "    print(i, end=', ')"
      ],
      "metadata": {
        "colab": {
          "base_uri": "https://localhost:8080/"
        },
        "id": "pzkOKRV5K6tj",
        "outputId": "ca5f3429-8bb2-48d0-fc8f-308ef270f4b3"
      },
      "execution_count": null,
      "outputs": [
        {
          "output_type": "stream",
          "name": "stdout",
          "text": [
            "1, 3, 5, 7, 9, 11, 13, 15, 17, 19, "
          ]
        }
      ]
    },
    {
      "cell_type": "code",
      "source": [
        "#.Q.5.write a python program to find the average of all numbers in a range.\n",
        "start = 1\n",
        "end = 10\n",
        "total =0\n",
        "count = 0\n",
        "for num in range(start, end + 1):\n",
        "  total += num\n",
        "  count += 1\n",
        "\n",
        "average =  total/count\n",
        "\n",
        "print(f' the average of numbers from {start} to {end} is {average:.2f}')"
      ],
      "metadata": {
        "colab": {
          "base_uri": "https://localhost:8080/"
        },
        "id": "cpLfHGXELdXO",
        "outputId": "be7816c2-0763-499f-ddb7-38746ff14558"
      },
      "execution_count": null,
      "outputs": [
        {
          "output_type": "stream",
          "name": "stdout",
          "text": [
            " the average of numbers from 1 to 10 is 5.50\n"
          ]
        }
      ]
    },
    {
      "cell_type": "code",
      "source": [
        "#.Q. 6 write a python program to check if a number is present in a given range.\n",
        "start = 1\n",
        "end = 10\n",
        "number_to_check = int(input('enter a number: '))\n",
        "\n",
        "if start <= number_to_check<= end:\n",
        "  print(f\"{number_to_check} is present in the range from {start} to {end}\")\n",
        "else:\n",
        "  print(f\"{number_to_check} is not in the range from {start} to {end}\")\n",
        "\n"
      ],
      "metadata": {
        "colab": {
          "base_uri": "https://localhost:8080/"
        },
        "id": "3GRngenfNOpM",
        "outputId": "91d08443-7a87-4ffd-f77b-9b0da39152c7"
      },
      "execution_count": null,
      "outputs": [
        {
          "output_type": "stream",
          "name": "stdout",
          "text": [
            "enter a number: 11\n",
            "11 is not in the range from 1 to 10\n"
          ]
        }
      ]
    },
    {
      "cell_type": "code",
      "source": [
        "#.Q.7. write a python program to reverse a range of numbers and print them.\n",
        "\n",
        "start = 1\n",
        "end = 10\n",
        "for num in range(end, start -1,-1):\n",
        "  print(num)\n"
      ],
      "metadata": {
        "colab": {
          "base_uri": "https://localhost:8080/"
        },
        "id": "8nsIqHZgOrE6",
        "outputId": "9d08b326-e562-49ee-9be7-4e935186e32c"
      },
      "execution_count": null,
      "outputs": [
        {
          "output_type": "stream",
          "name": "stdout",
          "text": [
            "10\n",
            "9\n",
            "8\n",
            "7\n",
            "6\n",
            "5\n",
            "4\n",
            "3\n",
            "2\n",
            "1\n"
          ]
        }
      ]
    },
    {
      "cell_type": "code",
      "source": [
        "#.Q.8.write a python program to find the product of all numbers in a range.\n",
        "start = 1\n",
        "end = 5\n",
        "product =1\n",
        "for num in range(start, end + 1):\n",
        "  product *= num\n",
        "\n",
        "print(f\"the product of numbers from {start} to {end} is {product}\")\n",
        "\n"
      ],
      "metadata": {
        "colab": {
          "base_uri": "https://localhost:8080/"
        },
        "id": "io0qZTS7PTeH",
        "outputId": "ee5fe7b5-ffe1-4723-d00d-a5742a193d57"
      },
      "execution_count": null,
      "outputs": [
        {
          "output_type": "stream",
          "name": "stdout",
          "text": [
            "the product of numbers from 1 to 5 is 120\n"
          ]
        }
      ]
    },
    {
      "cell_type": "code",
      "source": [
        "#.Q.9. write a python program to print the squares of all numbers in a range.\n",
        "start = 1\n",
        "end = 5\n",
        "for num in range(start, end + 1):\n",
        "    square = num*num\n",
        "    print(f\"the square of {num} is {square}\")"
      ],
      "metadata": {
        "colab": {
          "base_uri": "https://localhost:8080/"
        },
        "id": "L4_8VeUXQQU0",
        "outputId": "a6085c3d-7244-4a02-f3ce-0dc950b13514"
      },
      "execution_count": null,
      "outputs": [
        {
          "output_type": "stream",
          "name": "stdout",
          "text": [
            "the square of 1 is 1\n",
            "the square of 2 is 4\n",
            "the square of 3 is 9\n",
            "the square of 4 is 16\n",
            "the square of 5 is 25\n"
          ]
        }
      ]
    },
    {
      "cell_type": "code",
      "source": [
        "#.Q.10.write a python program to print the cube of all numbers in  a range.\n",
        "start = 1\n",
        "end = 5\n",
        "for num in range(start , end + 1):\n",
        "  cube =num**3\n",
        "  print(f\"the cube of {num} is {cube}\")"
      ],
      "metadata": {
        "colab": {
          "base_uri": "https://localhost:8080/"
        },
        "id": "WpT1HATnRF4X",
        "outputId": "44a86e9a-af52-43d7-9d28-c13cb38c3403"
      },
      "execution_count": null,
      "outputs": [
        {
          "output_type": "stream",
          "name": "stdout",
          "text": [
            "the cube of 1 is 1\n",
            "the cube of 2 is 8\n",
            "the cube of 3 is 27\n",
            "the cube of 4 is 64\n",
            "the cube of 5 is 125\n"
          ]
        }
      ]
    },
    {
      "cell_type": "markdown",
      "source": [
        "If-Else Loop Exercises:"
      ],
      "metadata": {
        "id": "sT2wp32kqDpG"
      }
    },
    {
      "cell_type": "code",
      "source": [
        "#.Q.1. write a python program to check if a number is even or odd.\n",
        "num = int (input('enter any number to test whether it is odd oe even:'))\n",
        "if (num % 2) == 0:\n",
        "  print('the number is even')\n",
        "else:\n",
        "  print('the number is odd')\n",
        "\n"
      ],
      "metadata": {
        "colab": {
          "base_uri": "https://localhost:8080/"
        },
        "id": "xOTlnNyBqRUR",
        "outputId": "4627b95f-cf2a-402a-a46b-962071f685f8"
      },
      "execution_count": null,
      "outputs": [
        {
          "output_type": "stream",
          "name": "stdout",
          "text": [
            "enter any number to test whether it is odd oe even:8\n",
            "the number is even\n"
          ]
        }
      ]
    },
    {
      "cell_type": "code",
      "source": [
        "#.Q.2.write a python program to check if a number is positive, negative , or zero.\n",
        "num= float(input('enter a number:'))\n",
        "if num > 0:\n",
        "  print('number is positive')\n",
        "elif num == 0:\n",
        "  print ('zero')\n",
        "else:\n",
        "  print('the number is negative')"
      ],
      "metadata": {
        "colab": {
          "base_uri": "https://localhost:8080/"
        },
        "id": "vNAESnkZrI93",
        "outputId": "305da9e3-8656-47cc-925c-bdc856988b9e"
      },
      "execution_count": null,
      "outputs": [
        {
          "output_type": "stream",
          "name": "stdout",
          "text": [
            "enter a number:-20\n",
            "the number is negative\n"
          ]
        }
      ]
    },
    {
      "cell_type": "code",
      "source": [
        "#.Q.3.write a python program to check if a year is leap year or not.\n",
        "def check_leap(year):\n",
        " if((year % 400==0) or\n",
        "     (year % 100 != 0) and\n",
        "     (year % 4 == 0)):\n",
        "     print('given year is leap year');\n",
        " else:\n",
        "  print('given year is not a leap year');\n",
        "year = int(input('enter the number:'))\n",
        "check_leap(year)\n"
      ],
      "metadata": {
        "colab": {
          "base_uri": "https://localhost:8080/"
        },
        "id": "NJ2PNaRqskFk",
        "outputId": "78aae6b8-2d66-4f79-9b53-9e22c05f5057"
      },
      "execution_count": null,
      "outputs": [
        {
          "output_type": "stream",
          "name": "stdout",
          "text": [
            "enter the number:2001\n",
            "given year is not a leap year\n"
          ]
        }
      ]
    },
    {
      "cell_type": "code",
      "source": [
        "#.Q.4. write a python program to find maximum of three numbers using if-else.\n",
        "num1 = int(input('enter the first number:'))\n",
        "num2 = int(input('enter the second number:'))\n",
        "num3 = int(input('enter the third number:'))\n",
        "\n",
        "if num1>= num2 and num1>=num3:\n",
        "  max_num = num1\n",
        "elif num2>= num1 and num2>=num3:\n",
        "  max_num = num2\n",
        "else:\n",
        "  max_num = 3\n",
        "print('the maximum number is:' , max_num)"
      ],
      "metadata": {
        "colab": {
          "base_uri": "https://localhost:8080/"
        },
        "id": "7qkcdDPMtRNq",
        "outputId": "1099c34b-8189-478e-8c0c-b81283b04690"
      },
      "execution_count": null,
      "outputs": [
        {
          "output_type": "stream",
          "name": "stdout",
          "text": [
            "enter the first number:5\n",
            "enter the second number:2\n",
            "enter the third number:1\n",
            "the maximum number is: 5\n"
          ]
        }
      ]
    },
    {
      "cell_type": "code",
      "source": [
        "#.Q.5.write a python program to check if a number is prime.\n",
        "n = 2\n",
        "if n > 1:\n",
        "  for i in range(2, int(n/2)+1):\n",
        "    if(n % i) == 0:\n",
        "      print(num, 'is not a prime number')\n",
        "    break\n",
        "  else:\n",
        "    print(n,'is a prime number')\n",
        "else:\n",
        "  print(n,'is not a prime number')"
      ],
      "metadata": {
        "colab": {
          "base_uri": "https://localhost:8080/"
        },
        "id": "s-C6V4OuyLbn",
        "outputId": "1dcdb960-fe07-49a7-fe2c-c95e95f682cd"
      },
      "execution_count": null,
      "outputs": [
        {
          "output_type": "stream",
          "name": "stdout",
          "text": [
            "2 is a prime number\n"
          ]
        }
      ]
    },
    {
      "cell_type": "code",
      "source": [
        "#.Q.6. write  apython program to check if a number is divisible by both 3 and 5.\n",
        "num1 = int(input('enter the number:'))\n",
        "num2 = int(input('enter the number'))\n",
        "for i in range (num1, num2+1):\n",
        "  if((i%3==0)) & (i%5==0):\n",
        "    print(i)"
      ],
      "metadata": {
        "colab": {
          "base_uri": "https://localhost:8080/"
        },
        "id": "TRwoJ4U6zKzu",
        "outputId": "fff3ff19-8da3-4d84-8ddf-b06e662176ca"
      },
      "execution_count": null,
      "outputs": [
        {
          "output_type": "stream",
          "name": "stdout",
          "text": [
            "enter the number:0\n",
            "enter the number99\n",
            "0\n",
            "15\n",
            "30\n",
            "45\n",
            "60\n",
            "75\n",
            "90\n"
          ]
        }
      ]
    },
    {
      "cell_type": "code",
      "source": [
        "#.Q.7.write a python program to check if a character is a vowel or consonant.\n",
        "character = input('enter a character:')\n",
        "vowels = ['a','e','i','o','u','A','E','I','O','U']\n",
        "if character in vowels:\n",
        "  print(\"the character'{character}' is a vowel!\")\n",
        "\n",
        "else:\n",
        "  print(\"the character'{character}' is a consonant\")\n"
      ],
      "metadata": {
        "colab": {
          "base_uri": "https://localhost:8080/"
        },
        "id": "lEWXlwgE0h1z",
        "outputId": "6c3ef36b-1f8c-44ae-cb7c-a4ebf5ae371a"
      },
      "execution_count": null,
      "outputs": [
        {
          "output_type": "stream",
          "name": "stdout",
          "text": [
            "enter a character:o\n",
            "the character'{character}' is a vowel!\n"
          ]
        }
      ]
    },
    {
      "cell_type": "code",
      "source": [
        "#.Q.8. write a python program to check if a given string is a palindrome using if-else\n",
        "\n",
        "def is_palindrome(input_string):\n",
        "  cleaned_string = input_string.replace(\"\",\"\").lower()\n",
        "  if cleaned_string == cleaned_string[::-1]:\n",
        "    return True\n",
        "  else:\n",
        "    return False\n",
        "\n",
        "user_input = input('enter a string:')\n",
        "if is_palindrome(user_input):\n",
        "  print('its a palindrome!')\n",
        "else:\n",
        "  print('its  not a palindrome.')"
      ],
      "metadata": {
        "colab": {
          "base_uri": "https://localhost:8080/"
        },
        "id": "amiqoc1i2YJD",
        "outputId": "84d39248-2941-410d-d62f-351aacee83d8"
      },
      "execution_count": null,
      "outputs": [
        {
          "output_type": "stream",
          "name": "stdout",
          "text": [
            "enter a string:dev\n",
            "its  not a palindrome.\n"
          ]
        }
      ]
    },
    {
      "cell_type": "code",
      "source": [
        "#.Q.9. write a python program to determine the largest among three numbers using nested if-else.\n",
        "a = int(input('enter A:'))\n",
        "b = int(input('enter B:'))\n",
        "c = int(input('enter C:'))\n",
        "\n",
        "if a>b:\n",
        "  if a>c:\n",
        "    l=a\n",
        "  else:\n",
        "    l=c\n",
        "else:\n",
        "  if b>c:\n",
        "     l=b\n",
        "  else:\n",
        "    l=c\n",
        "print('largest = ' ,l)\n"
      ],
      "metadata": {
        "colab": {
          "base_uri": "https://localhost:8080/"
        },
        "id": "wOSJSiiD4DfK",
        "outputId": "8413941f-f25a-4abf-f01b-f195ef1efb56"
      },
      "execution_count": null,
      "outputs": [
        {
          "output_type": "stream",
          "name": "stdout",
          "text": [
            "enter A:10\n",
            "enter B:6\n",
            "enter C:15\n",
            "largest =  15\n"
          ]
        }
      ]
    },
    {
      "cell_type": "code",
      "source": [
        "#.Q.10. write a python program to check if a triangle is equilateral, isosceles, or scalene based on its side lengths using if-else.\n",
        "\n",
        "print('input lengths of the triangle sides:')\n",
        "x = int(input('x:'))\n",
        "y = int(input('y:'))\n",
        "z = int(input('z:'))\n",
        "if x==y==z:\n",
        "  print('Equilateral triangle')\n",
        "elif x==y or y==z or z==x:\n",
        "  print('isosceles triangle')\n",
        "else:\n",
        "  print('scalene triangle')"
      ],
      "metadata": {
        "colab": {
          "base_uri": "https://localhost:8080/"
        },
        "id": "ZIlrtr_h59Uv",
        "outputId": "d877f684-3bc3-4599-99fd-192c8f9aae53"
      },
      "execution_count": null,
      "outputs": [
        {
          "output_type": "stream",
          "name": "stdout",
          "text": [
            "input lengths of the triangle sides:\n",
            "x:5\n",
            "y:5\n",
            "z:6\n",
            "isosceles triangle\n"
          ]
        }
      ]
    },
    {
      "cell_type": "markdown",
      "source": [
        "For loop Exercise:\n"
      ],
      "metadata": {
        "id": "51mQT_oRi7Rw"
      }
    },
    {
      "cell_type": "code",
      "source": [
        "#.Q.1 write a python program to print the numbers from 1 to 10 using a for loop.\n",
        "for i in range(1, 11):\n",
        " print(i)"
      ],
      "metadata": {
        "colab": {
          "base_uri": "https://localhost:8080/"
        },
        "id": "gJVzzHSsjN8q",
        "outputId": "bd826de2-1e4f-4727-b4d7-6c3a69b18c78"
      },
      "execution_count": null,
      "outputs": [
        {
          "output_type": "stream",
          "name": "stdout",
          "text": [
            "1\n",
            "2\n",
            "3\n",
            "4\n",
            "5\n",
            "6\n",
            "7\n",
            "8\n",
            "9\n",
            "10\n"
          ]
        }
      ]
    },
    {
      "cell_type": "code",
      "source": [
        "#.Q.2. write a python program to calculate the sum of all numbers in a list using a for loop.\n",
        "numbers = [1,2,3,4,5,6,7,8,9,10]\n",
        "sum_of_numbers = 0\n",
        "for number in numbers:\n",
        " sum_of_numbers +=number\n",
        "\n",
        "print('the sum of the numbers is:' , sum_of_numbers)"
      ],
      "metadata": {
        "colab": {
          "base_uri": "https://localhost:8080/"
        },
        "id": "ymBRTSaMjoGh",
        "outputId": "d56fae8f-488e-4e3e-a872-ea7b6aab99c3"
      },
      "execution_count": null,
      "outputs": [
        {
          "output_type": "stream",
          "name": "stdout",
          "text": [
            "the sum of the numbers is: 55\n"
          ]
        }
      ]
    },
    {
      "cell_type": "code",
      "source": [
        "#.Q.3. write a python program to find the factorial of a number using a for loop.\n",
        "def factorial(n):\n",
        "  if n<0:\n",
        "    return ' Factorial is not defined for negative numbers'\n",
        "  elif n == 0:\n",
        "    return 1\n",
        "  else:\n",
        "    result = 1\n",
        "    for i in range(1, n+1):\n",
        "      result *= i\n",
        "    return result\n",
        "\n",
        "num = int(input('enter a number:'))\n",
        "fact = factorial(num)\n",
        "print(f\"the factorial of {num} is {fact}\")"
      ],
      "metadata": {
        "id": "JRohtq7Llbuv",
        "colab": {
          "base_uri": "https://localhost:8080/"
        },
        "outputId": "f3737211-88c1-480f-de41-43b46b448889"
      },
      "execution_count": 1,
      "outputs": [
        {
          "output_type": "stream",
          "name": "stdout",
          "text": [
            "enter a number:6\n",
            "the factorial of 6 is 720\n"
          ]
        }
      ]
    },
    {
      "cell_type": "code",
      "source": [
        "#.Q.4.write a python program to print all the even numbers between 1 and 50 using for loop.\n",
        "for num in range(1,51):\n",
        "  if num%2==0:\n",
        "    print(num)\n"
      ],
      "metadata": {
        "colab": {
          "base_uri": "https://localhost:8080/"
        },
        "id": "IehPFLOXL1MN",
        "outputId": "439c5280-8415-4ee1-ecb5-d145aa6e626c"
      },
      "execution_count": 2,
      "outputs": [
        {
          "output_type": "stream",
          "name": "stdout",
          "text": [
            "2\n",
            "4\n",
            "6\n",
            "8\n",
            "10\n",
            "12\n",
            "14\n",
            "16\n",
            "18\n",
            "20\n",
            "22\n",
            "24\n",
            "26\n",
            "28\n",
            "30\n",
            "32\n",
            "34\n",
            "36\n",
            "38\n",
            "40\n",
            "42\n",
            "44\n",
            "46\n",
            "48\n",
            "50\n"
          ]
        }
      ]
    },
    {
      "cell_type": "code",
      "source": [
        "#.Q.5. write a python program to iterate over a string and print each character using a for loop.\n",
        "text = \"hello, world!\"\n",
        "\n",
        "for char in text:\n",
        "  print(char)"
      ],
      "metadata": {
        "colab": {
          "base_uri": "https://localhost:8080/"
        },
        "id": "gBmXMX0CMo7P",
        "outputId": "4259385d-6eb0-4bd3-82d8-f9b6d181fb8a"
      },
      "execution_count": 3,
      "outputs": [
        {
          "output_type": "stream",
          "name": "stdout",
          "text": [
            "h\n",
            "e\n",
            "l\n",
            "l\n",
            "o\n",
            ",\n",
            " \n",
            "w\n",
            "o\n",
            "r\n",
            "l\n",
            "d\n",
            "!\n"
          ]
        }
      ]
    },
    {
      "cell_type": "code",
      "source": [
        "#.Q.6. write a python program to iterate over a list of tuple and print each element using a for loop.\n",
        "A = [(1,'apple'),(2,'banana'),(3,'cherry')]\n",
        "for item in A:\n",
        "  for element in item:\n",
        "    print(element)"
      ],
      "metadata": {
        "colab": {
          "base_uri": "https://localhost:8080/"
        },
        "id": "JdgR4dXINRs2",
        "outputId": "3a6678f5-f917-46ae-b7d1-d512e9362770"
      },
      "execution_count": 4,
      "outputs": [
        {
          "output_type": "stream",
          "name": "stdout",
          "text": [
            "1\n",
            "apple\n",
            "2\n",
            "banana\n",
            "3\n",
            "cherry\n"
          ]
        }
      ]
    },
    {
      "cell_type": "code",
      "source": [
        "#.Q.7.write a python program to find the largets element in a list using for loop.\n",
        "list1 = []\n",
        "num = int(input('enter number of elements in list:'))\n",
        "for i in range(1, num+1):\n",
        "  ele = int(input('enter elements:'))\n",
        "  list1.append(ele)\n",
        "print('largest element is :', max(list1))"
      ],
      "metadata": {
        "colab": {
          "base_uri": "https://localhost:8080/"
        },
        "id": "0rcuvzxOOOHD",
        "outputId": "7e4147f1-1d74-48b1-9088-7a961dd4195f"
      },
      "execution_count": 5,
      "outputs": [
        {
          "output_type": "stream",
          "name": "stdout",
          "text": [
            "enter number of elements in list:5\n",
            "enter elements:9\n",
            "enter elements:82\n",
            "enter elements:5\n",
            "enter elements:56\n",
            "enter elements:86\n",
            "largest element is : 86\n"
          ]
        }
      ]
    },
    {
      "cell_type": "code",
      "source": [
        "#.Q.8. write python program to check if all elements in a list are even using a for loop.\n",
        "def are_all_even(input_list):\n",
        "  for element in input_list:\n",
        "    if element % 2 != 0:\n",
        "       return False\n",
        "    return True\n",
        "\n",
        "my_list = [1,4,6,8,10]\n",
        "result = are_all_even(my_list)\n",
        "if result:\n",
        "  print('all elements in the list are even')\n",
        "\n",
        "else:\n",
        "  print('not all elements in the list are even')"
      ],
      "metadata": {
        "colab": {
          "base_uri": "https://localhost:8080/"
        },
        "id": "jxUiN8VCPxoZ",
        "outputId": "868c0f75-9b32-4d07-9834-feb2ec2fb6f9"
      },
      "execution_count": 8,
      "outputs": [
        {
          "output_type": "stream",
          "name": "stdout",
          "text": [
            "not all elements in the list are even\n"
          ]
        }
      ]
    },
    {
      "cell_type": "code",
      "source": [
        "#.Q.9.write a python program to find the common elements between two lists using a for loop.\n",
        "def find_common_elements(list1, list2):\n",
        "  common_elements = []\n",
        "  for element1 in list1:\n",
        "    for element2 in list2:\n",
        "      if element1 == element2:\n",
        "        common_elements.append(element1)\n",
        "        break\n",
        "\n",
        "  return common_elements\n",
        "list1 = [1,2,3,4,5]\n",
        "list2 = [3,4,5,6,7]\n",
        "\n",
        "common_elements = find_common_elements(list1, list2)\n",
        "if common_elements:\n",
        "  print('common elements in the two lists are :', common_elements)\n",
        "else:\n",
        "  print('there are no common elements in the two lists')\n",
        "\n"
      ],
      "metadata": {
        "colab": {
          "base_uri": "https://localhost:8080/"
        },
        "id": "Urgrl_JWStIB",
        "outputId": "c838ee01-5f78-4214-c296-e8ecafbdfc41"
      },
      "execution_count": 12,
      "outputs": [
        {
          "output_type": "stream",
          "name": "stdout",
          "text": [
            "common elements in the two lists are : [3, 4, 5]\n"
          ]
        }
      ]
    },
    {
      "cell_type": "code",
      "source": [
        "#.Q.10. write a python program to calculate the sum of the digits of a number using a for loop.\n",
        "def getSum(n):\n",
        "\n",
        "  sum = 0\n",
        "  for digit in str(n):\n",
        "    sum += int(digit)\n",
        "  return sum\n",
        "n = 111\n",
        "print(getSum(n))\n",
        "\n"
      ],
      "metadata": {
        "colab": {
          "base_uri": "https://localhost:8080/"
        },
        "id": "7BurTPY3TvNw",
        "outputId": "356a7b5f-7533-4a37-fd65-21634d0f5a71"
      },
      "execution_count": 14,
      "outputs": [
        {
          "output_type": "stream",
          "name": "stdout",
          "text": [
            "3\n"
          ]
        }
      ]
    },
    {
      "cell_type": "code",
      "source": [],
      "metadata": {
        "id": "61Hu4PtEbqvB"
      },
      "execution_count": null,
      "outputs": []
    }
  ]
}